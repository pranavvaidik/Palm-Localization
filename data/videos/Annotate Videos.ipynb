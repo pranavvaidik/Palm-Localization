{
 "cells": [
  {
   "cell_type": "markdown",
   "metadata": {},
   "source": [
    "This is a file that will add annotations to the video files properly"
   ]
  },
  {
   "cell_type": "markdown",
   "metadata": {},
   "source": [
    "# Import all necessary libraries"
   ]
  },
  {
   "cell_type": "code",
   "execution_count": 152,
   "metadata": {},
   "outputs": [],
   "source": [
    "# computer vision libraries\n",
    "import cv2\n",
    "#import tensorflow as tf\n",
    "from imutils.video import count_frames\n",
    "\n",
    "# plotting and computing libraries\n",
    "from matplotlib import pyplot as plt\n",
    "import numpy as np\n",
    "\n",
    "# directories and system libraries\n",
    "import os\n",
    "from time import time\n",
    "import json\n",
    "\n",
    "#GUI libraries\n",
    "import tkinter as tk\n",
    "import ast\n",
    "\n"
   ]
  },
  {
   "cell_type": "markdown",
   "metadata": {},
   "source": [
    "Select what file to annotate"
   ]
  },
  {
   "cell_type": "code",
   "execution_count": 153,
   "metadata": {},
   "outputs": [
    {
     "name": "stdout",
     "output_type": "stream",
     "text": [
      "slected file name is:  VID-0025.mp4\n",
      "640.0 352.0\n"
     ]
    }
   ],
   "source": [
    "# Get all video file names\n",
    "video_file_names = [file for file in os.listdir() if file.endswith(\".mp4\")]\n",
    "#print(video_file_names)\n",
    "\n",
    "# Create a menu box for selecting the video file\n",
    "dropdown = tk.Tk()\n",
    "\n",
    "dropdown.geometry('300x300')\n",
    "\n",
    "\n",
    "def quit():\n",
    "    dropdown.destroy()\n",
    "\n",
    "variable = tk.StringVar(dropdown)\n",
    "variable.set(\"Select\")\n",
    "\n",
    "opt = tk.OptionMenu(dropdown, variable, *video_file_names)\n",
    "opt.config(width=90, font=('Helvetica', 12))\n",
    "opt.pack()\n",
    "\n",
    "button = tk.Button(dropdown, text = 'Select and Close', command=quit)\n",
    "button.pack()\n",
    "\n",
    "\n",
    "dropdown.mainloop()\n",
    "\n",
    "\n",
    "filename = variable.get()\n",
    "\n",
    "print(\"slected file name is: \", filename)\n",
    "\n",
    "\n",
    "video = cv2.VideoCapture(filename)\n",
    "frame_count = int(video.get(cv2.CAP_PROP_FRAME_COUNT))\n",
    "fps = video.get(cv2.CAP_PROP_FPS)\n",
    "duration = frame_count/fps\n",
    "\n",
    "width  = video.get(cv2.CAP_PROP_FRAME_WIDTH)  # float\n",
    "height = video.get(cv2.CAP_PROP_FRAME_HEIGHT) # float\n",
    "\n",
    "print(width, height)\n",
    "\n",
    "\n",
    "#frame_count = count_frames(filename,override = T)\n",
    "\n",
    "#print(\"There are \", frame_count, \" frames in the video, approx\")\n"
   ]
  },
  {
   "cell_type": "code",
   "execution_count": 154,
   "metadata": {},
   "outputs": [
    {
     "name": "stdout",
     "output_type": "stream",
     "text": [
      "exited\n"
     ]
    }
   ],
   "source": [
    "body_location_labels_left = ['head', 'neck', 'left_shoulder', 'right_shoulder', 'chest', 'right_palm', 'right_arm', 'right_elbow', 'right_fore_arm','abdomen', 'left_fore_leg', 'left_thigh', 'left_foot', 'left_knee' , 'right_fore_leg', 'right_thigh', 'right_foot', 'right_knee', 'waist', 'upper_back', 'lower_back']\n",
    "body_location_labels_right = ['head', 'neck', 'left_shoulder', 'right_shoulder', 'chest', 'left_palm', 'left_arm', 'left_elbow', 'left_fore_arm', 'abdomen', 'left_fore_leg', 'left_thigh', 'left_foot', 'left_knee' , 'right_fore_leg', 'right_thigh', 'right_foot', 'right_knee', 'waist', 'upper_back', 'lower_back']\n",
    "\n",
    "e_left = [None]*len(body_location_labels_left)\n",
    "e_right = [None]*len(body_location_labels_left)\n",
    "\n",
    "import tkinter as tk\n",
    "\n",
    "def show_entry_fields():\n",
    "    print(\"First Name: %s\\nLast Name: %s\" % (e_left[1].get(), e_left[0].get()))\n",
    "    \n",
    "    #t = list(ast.literal_eval(e[1].get()))\n",
    "    #print(t)\n",
    "\n",
    "master = tk.Tk()\n",
    "\n",
    "for i, body_part in enumerate(body_location_labels_left):\n",
    "    \n",
    "    tk.Label(master, \n",
    "             text=body_part+' locs').grid(row=i, column=0)\n",
    "    tk.Label(master, \n",
    "             text=body_location_labels_right[i]+' locs').grid(row=i, column=2)\n",
    "\n",
    "    e_left[i] = tk.Entry(master)\n",
    "    e_left[i].grid(row=i, column=1)\n",
    "    e_right[i] = tk.Entry(master)\n",
    "    e_right[i].grid(row=i, column=3)\n",
    "\n",
    "\n",
    "# tk.Button(master, text='Quit', command=master.quit).grid(row=i+1,column=0,sticky=tk.W,pady=4)\n",
    "tk.Button(master, \n",
    "          text='Show', command=show_entry_fields).grid(row=i+1,column=1,sticky=tk.W,pady=4)\n",
    "\n",
    "#tk.mainloop()\n",
    "\n",
    "\n",
    "print('exited')"
   ]
  },
  {
   "cell_type": "markdown",
   "metadata": {},
   "source": [
    "# What this code block does\n",
    "\n",
    "- Display frames at will based on frame number\n",
    "\n",
    "- Add trackbar\n",
    "\n",
    "- be able to move trackbar with mouse/keyboard frame by frame"
   ]
  },
  {
   "cell_type": "code",
   "execution_count": 155,
   "metadata": {},
   "outputs": [
    {
     "name": "stdout",
     "output_type": "stream",
     "text": [
      "There are  577  frames in the video, approx, took  0.010970592498779297  seconds\n",
      "{'left_hand': {}, 'right_hand': {'head': [(0, 577)]}}\n"
     ]
    }
   ],
   "source": [
    "start = time()\n",
    "#frame_count = count_frames(filename,override = False)\n",
    "try:\n",
    "    cv2.destroyAllWindows()\n",
    "except:\n",
    "    print(\"\")\n",
    "\n",
    "video = cv2.VideoCapture(filename)\n",
    "frame_count = int(video.get(cv2.CAP_PROP_FRAME_COUNT))\n",
    "\n",
    "\n",
    "end = time()\n",
    "print(\"There are \", frame_count, \" frames in the video, approx, took \", end-start, \" seconds\")\n",
    "\n",
    "\n",
    "def trackbar_callback( frame_number):\n",
    "    #fill_val[idx] = value\n",
    "    video.set(cv2.CAP_PROP_POS_FRAMES, frame_number-1)\n",
    "    #res, frame = video.read()\n",
    "\n",
    "cv2.namedWindow('Frame')\n",
    "    \n",
    "cv2.createTrackbar('Frame Number', 'Frame', 0, frame_count, lambda v: trackbar_callback(v))\n",
    "\n",
    "# Check if camera opened successfully \n",
    "if (video.isOpened()== False):  \n",
    "  print(\"Error opening video  file\") \n",
    "\n",
    "pause = False\n",
    "# Read until video is completed \n",
    "while(video.isOpened()): \n",
    "  master.update()   \n",
    "  # videoture frame-by-frame \n",
    "  ret, frame = video.read() \n",
    "  if ret == True: \n",
    "    \n",
    "    frame_pos = cv2.getTrackbarPos('Frame Number', 'Frame')\n",
    "    cv2.setTrackbarPos('Frame Number', 'Frame', frame_pos+1)\n",
    "    \n",
    "    frame = cv2.resize(frame, (512, 512), fx=0,fy=0, interpolation = cv2.INTER_CUBIC)\n",
    "    \n",
    "    # Display the resulting frame \n",
    "    cv2.imshow('Frame', frame) \n",
    "    \n",
    "    \n",
    "    \n",
    "    # Press P on keyboard to pause\n",
    "    if cv2.waitKey(5) & 0xFF == ord('p'):\n",
    "        #master.update()\n",
    "        cv2.waitKey()\n",
    "    \n",
    "    # Press Q on keyboard to  exit \n",
    "    if cv2.waitKey(5) & 0xFF == ord('q'): \n",
    "        break\n",
    "    \n",
    "    \n",
    "     \n",
    "  # Break the loop \n",
    "  else:\n",
    "    cv2.setTrackbarPos('Frame Number', 'Frame', 1)\n",
    "    #break\n",
    "\n",
    "    \n",
    "    \n",
    "    \n",
    "    \n",
    "    \n",
    "    \n",
    "frame_locs = {}\n",
    "frame_locs['left_hand'] = {}\n",
    "frame_locs['right_hand'] = {}\n",
    "\n",
    "# write the frame info from the UI to a dictionary of lists\n",
    "for i, body_part in enumerate(body_location_labels_left):\n",
    "    if len(e_left[i].get()) != 0:\n",
    "        print(e_left[i].get())\n",
    "        t = ast.literal_eval(e_left[i].get())\n",
    "        if type(t[0]) == int:\n",
    "            frame_locs['left_hand'][body_part] = [t]\n",
    "        else:            \n",
    "            frame_locs['left_hand'][body_part] = list(t)\n",
    "            \n",
    "for i, body_part in enumerate(body_location_labels_right):           \n",
    "    if len(e_right[i].get()) != 0:\n",
    "        t = ast.literal_eval(e_right[i].get())\n",
    "        if type(t[0]) == int:\n",
    "            frame_locs['right_hand'][body_part] = [t]\n",
    "        else:            \n",
    "            frame_locs['right_hand'][body_part] = list(t)\n",
    "        \n",
    "print(frame_locs)\n",
    "        \n",
    "#tk.mainloop()\n",
    "\n",
    "try:\n",
    "    master.destroy()    \n",
    "except:\n",
    "    print(\"couldn't destroy the gui\")\n",
    "# When everything done, release  \n",
    "# the video videoture object \n",
    "video.release()\n",
    "# Closes all the frames\n",
    "cv2.destroyAllWindows()\n",
    "\n",
    "\n",
    " \n"
   ]
  },
  {
   "cell_type": "code",
   "execution_count": 156,
   "metadata": {},
   "outputs": [
    {
     "name": "stdout",
     "output_type": "stream",
     "text": [
      "left_hand\n",
      "right_hand\n",
      "head\n",
      "(0, 577)\n",
      "VID-0025.mp4\n"
     ]
    }
   ],
   "source": [
    "# Now the data kinda accommodates multiple body parts in the same frame. We now need to convert it to a proper JSON file \n",
    "#so we can have two labels, one per hand\n",
    "\n",
    "temp = [{'frame_number':i+1, 'location':'None'} for i in range(frame_count)]\n",
    "labels_dict = {'left_hand' : temp.copy(), 'right_hand' : temp.copy()}\n",
    "\n",
    "# loop over all the gathered tuples\n",
    "for hand in frame_locs.keys():\n",
    "    print(hand)\n",
    "    for body_part in frame_locs[hand].keys():\n",
    "        frame_nums = frame_locs[hand][body_part]\n",
    "        print(body_part)\n",
    "        for loc in frame_nums:\n",
    "            print(loc)\n",
    "            for i in range(loc[0]-1, loc[1]):\n",
    "                #print(\"this is: \",labels_dict[hand][1])\n",
    "                \n",
    "                labels_dict[hand][i] = {'frame_number':i+1, 'location':body_part, 'time': i/fps}\n",
    "                \n",
    "with open(filename[:-4]+'.json', 'w') as fp:\n",
    "    json.dump(labels_dict, fp)\n",
    "    \n",
    "print(filename)\n"
   ]
  },
  {
   "cell_type": "code",
   "execution_count": 26,
   "metadata": {},
   "outputs": [
    {
     "name": "stdout",
     "output_type": "stream",
     "text": [
      "frame_locs[left_hand][head] =\n",
      "frame_locs[left_hand][neck] =\n",
      "frame_locs[left_hand][left_shoulder] =\n",
      "frame_locs[left_hand][right_shoulder] =\n",
      "frame_locs[left_hand][chest] =\n",
      "frame_locs[left_hand][right_palm] =\n",
      "frame_locs[left_hand][right_arm] =\n",
      "frame_locs[left_hand][right_elbow] =\n",
      "frame_locs[left_hand][right_fore_arm] =\n",
      "frame_locs[left_hand][abdomen] =\n",
      "frame_locs[left_hand][left_fore_leg] =\n",
      "frame_locs[left_hand][left_thigh] =\n",
      "frame_locs[left_hand][left_foot] =\n",
      "frame_locs[left_hand][left_knee] =\n",
      "frame_locs[left_hand][right_fore_leg] =\n",
      "frame_locs[left_hand][right_thigh] =\n",
      "frame_locs[left_hand][right_foot] =\n",
      "frame_locs[left_hand][right_knee] =\n",
      "frame_locs[left_hand][waist] =\n",
      "frame_locs[left_hand][upper_back] =\n",
      "frame_locs[left_hand][lower_back] =\n",
      "frame_locs[right_hand][head] =\n",
      "frame_locs[right_hand][neck] =\n",
      "frame_locs[right_hand][left_shoulder] =\n",
      "frame_locs[right_hand][right_shoulder] =\n",
      "frame_locs[right_hand][chest] =\n",
      "frame_locs[right_hand][right_palm] =\n",
      "frame_locs[right_hand][right_arm] =\n",
      "frame_locs[right_hand][right_elbow] =\n",
      "frame_locs[right_hand][right_fore_arm] =\n",
      "frame_locs[right_hand][abdomen] =\n",
      "frame_locs[right_hand][left_fore_leg] =\n",
      "frame_locs[right_hand][left_thigh] =\n",
      "frame_locs[right_hand][left_foot] =\n",
      "frame_locs[right_hand][left_knee] =\n",
      "frame_locs[right_hand][right_fore_leg] =\n",
      "frame_locs[right_hand][right_thigh] =\n",
      "frame_locs[right_hand][right_foot] =\n",
      "frame_locs[right_hand][right_knee] =\n",
      "frame_locs[right_hand][waist] =\n",
      "frame_locs[right_hand][upper_back] =\n",
      "frame_locs[right_hand][lower_back] =\n"
     ]
    }
   ],
   "source": [
    "frame_locs = {}\n",
    "frame_locs['left_hand'] = {}\n",
    "frame_locs['right_hand'] = {}\n",
    "\n",
    "for hand in ['left_hand','right_hand']:\n",
    "    for i, body_part in enumerate(body_location_labels_left):\n",
    "        text = input(\"frame_locs[\" + hand + \"]\" + \"[\" + body_part + \"] =\")\n",
    "        if len(text) != 0:\n",
    "            print(text)\n",
    "            t = ast.literal_eval(text)\n",
    "            if type(t[0]) == int:\n",
    "                frame_locs[hand][body_part] = [t]\n",
    "            else:            \n",
    "                frame_locs[hand][body_part] = list(t)\n",
    "            \n",
    "            print(frame_locs[hand][body_part])"
   ]
  },
  {
   "cell_type": "code",
   "execution_count": null,
   "metadata": {},
   "outputs": [],
   "source": [
    "\n",
    "\n",
    "\n"
   ]
  },
  {
   "cell_type": "code",
   "execution_count": 31,
   "metadata": {},
   "outputs": [
    {
     "data": {
      "text/plain": [
       "[(2769, 3040)]"
      ]
     },
     "execution_count": 31,
     "metadata": {},
     "output_type": "execute_result"
    }
   ],
   "source": [
    "t = ast.literal_eval('(2769,3040),(2,3)')\n",
    "\n",
    "type(t[0])==tuple\n",
    "[t[0]]"
   ]
  },
  {
   "cell_type": "code",
   "execution_count": 27,
   "metadata": {},
   "outputs": [
    {
     "name": "stdout",
     "output_type": "stream",
     "text": [
      "{'left_hand': {'abdomen': [(2769, 2880), (2973, 3040), (3805, 3820)]}, 'right_hand': {'abdomen': [(2769, 2880), (2973, 3040), (3805, 3820)], 'left_leg': [(4725, 4740)]}}\n"
     ]
    }
   ],
   "source": [
    "print(frame_locs)"
   ]
  },
  {
   "cell_type": "code",
   "execution_count": 26,
   "metadata": {},
   "outputs": [],
   "source": [
    "frame_locs['right_hand']['left_leg'] = [(4725,4740)]"
   ]
  },
  {
   "cell_type": "code",
   "execution_count": 24,
   "metadata": {},
   "outputs": [
    {
     "ename": "TclError",
     "evalue": "can't invoke \"destroy\" command: application has been destroyed",
     "output_type": "error",
     "traceback": [
      "\u001b[1;31m---------------------------------------------------------------------------\u001b[0m",
      "\u001b[1;31mTclError\u001b[0m                                  Traceback (most recent call last)",
      "\u001b[1;32m<ipython-input-24-b9a707880ce3>\u001b[0m in \u001b[0;36m<module>\u001b[1;34m\u001b[0m\n\u001b[1;32m----> 1\u001b[1;33m \u001b[0mmaster\u001b[0m\u001b[1;33m.\u001b[0m\u001b[0mdestroy\u001b[0m\u001b[1;33m(\u001b[0m\u001b[1;33m)\u001b[0m\u001b[1;33m\u001b[0m\u001b[1;33m\u001b[0m\u001b[0m\n\u001b[0m",
      "\u001b[1;32mc:\\users\\prana\\anaconda3\\envs\\ml-agents\\lib\\tkinter\\__init__.py\u001b[0m in \u001b[0;36mdestroy\u001b[1;34m(self)\u001b[0m\n\u001b[0;32m   2060\u001b[0m         end the application of this Tcl interpreter.\"\"\"\n\u001b[0;32m   2061\u001b[0m         \u001b[1;32mfor\u001b[0m \u001b[0mc\u001b[0m \u001b[1;32min\u001b[0m \u001b[0mlist\u001b[0m\u001b[1;33m(\u001b[0m\u001b[0mself\u001b[0m\u001b[1;33m.\u001b[0m\u001b[0mchildren\u001b[0m\u001b[1;33m.\u001b[0m\u001b[0mvalues\u001b[0m\u001b[1;33m(\u001b[0m\u001b[1;33m)\u001b[0m\u001b[1;33m)\u001b[0m\u001b[1;33m:\u001b[0m \u001b[0mc\u001b[0m\u001b[1;33m.\u001b[0m\u001b[0mdestroy\u001b[0m\u001b[1;33m(\u001b[0m\u001b[1;33m)\u001b[0m\u001b[1;33m\u001b[0m\u001b[1;33m\u001b[0m\u001b[0m\n\u001b[1;32m-> 2062\u001b[1;33m         \u001b[0mself\u001b[0m\u001b[1;33m.\u001b[0m\u001b[0mtk\u001b[0m\u001b[1;33m.\u001b[0m\u001b[0mcall\u001b[0m\u001b[1;33m(\u001b[0m\u001b[1;34m'destroy'\u001b[0m\u001b[1;33m,\u001b[0m \u001b[0mself\u001b[0m\u001b[1;33m.\u001b[0m\u001b[0m_w\u001b[0m\u001b[1;33m)\u001b[0m\u001b[1;33m\u001b[0m\u001b[1;33m\u001b[0m\u001b[0m\n\u001b[0m\u001b[0;32m   2063\u001b[0m         \u001b[0mMisc\u001b[0m\u001b[1;33m.\u001b[0m\u001b[0mdestroy\u001b[0m\u001b[1;33m(\u001b[0m\u001b[0mself\u001b[0m\u001b[1;33m)\u001b[0m\u001b[1;33m\u001b[0m\u001b[1;33m\u001b[0m\u001b[0m\n\u001b[0;32m   2064\u001b[0m         \u001b[1;32mglobal\u001b[0m \u001b[0m_default_root\u001b[0m\u001b[1;33m\u001b[0m\u001b[1;33m\u001b[0m\u001b[0m\n",
      "\u001b[1;31mTclError\u001b[0m: can't invoke \"destroy\" command: application has been destroyed"
     ]
    }
   ],
   "source": []
  },
  {
   "cell_type": "code",
   "execution_count": 10,
   "metadata": {},
   "outputs": [
    {
     "data": {
      "text/plain": [
       "3"
      ]
     },
     "execution_count": 10,
     "metadata": {},
     "output_type": "execute_result"
    }
   ],
   "source": []
  },
  {
   "cell_type": "code",
   "execution_count": null,
   "metadata": {},
   "outputs": [],
   "source": []
  },
  {
   "cell_type": "code",
   "execution_count": 40,
   "metadata": {},
   "outputs": [
    {
     "data": {
      "text/plain": [
       "'5'"
      ]
     },
     "execution_count": 40,
     "metadata": {},
     "output_type": "execute_result"
    }
   ],
   "source": []
  },
  {
   "cell_type": "code",
   "execution_count": 36,
   "metadata": {},
   "outputs": [
    {
     "data": {
      "text/plain": [
       "21"
      ]
     },
     "execution_count": 36,
     "metadata": {},
     "output_type": "execute_result"
    }
   ],
   "source": [
    "\n"
   ]
  },
  {
   "cell_type": "code",
   "execution_count": 2,
   "metadata": {},
   "outputs": [],
   "source": []
  },
  {
   "cell_type": "code",
   "execution_count": 3,
   "metadata": {},
   "outputs": [
    {
     "data": {
      "text/plain": [
       "4.33076923076923"
      ]
     },
     "execution_count": 3,
     "metadata": {},
     "output_type": "execute_result"
    }
   ],
   "source": []
  },
  {
   "cell_type": "code",
   "execution_count": null,
   "metadata": {},
   "outputs": [],
   "source": []
  },
  {
   "cell_type": "code",
   "execution_count": null,
   "metadata": {},
   "outputs": [],
   "source": []
  },
  {
   "cell_type": "code",
   "execution_count": null,
   "metadata": {},
   "outputs": [],
   "source": []
  }
 ],
 "metadata": {
  "kernelspec": {
   "display_name": "Python 3",
   "language": "python",
   "name": "python3"
  },
  "language_info": {
   "codemirror_mode": {
    "name": "ipython",
    "version": 3
   },
   "file_extension": ".py",
   "mimetype": "text/x-python",
   "name": "python",
   "nbconvert_exporter": "python",
   "pygments_lexer": "ipython3",
   "version": "3.6.9"
  }
 },
 "nbformat": 4,
 "nbformat_minor": 2
}
